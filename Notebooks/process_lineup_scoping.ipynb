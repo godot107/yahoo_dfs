{
 "cells": [
  {
   "cell_type": "markdown",
   "id": "48ffa88d-cc99-4521-a2fd-105ced84aebf",
   "metadata": {},
   "source": [
    "Inputs: Available players from a yahoo Context Export\n",
    "\n",
    "Outputs: Processed Data for evaluation\n"
   ]
  },
  {
   "cell_type": "code",
   "execution_count": 1,
   "id": "ac53f9b8-becd-4fa0-9bdd-f1d9ef96ce7e",
   "metadata": {},
   "outputs": [
    {
     "data": {
      "text/plain": [
       "True"
      ]
     },
     "execution_count": 1,
     "metadata": {},
     "output_type": "execute_result"
    }
   ],
   "source": [
    "import pandas as pd\n",
    "import json\n",
    "\n",
    "from datetime import datetime\n",
    "import pytz\n",
    "\n",
    "import numpy as np\n",
    "\n",
    "from basketball_reference_scraper.teams import get_roster, get_team_stats, get_opp_stats, get_roster_stats, get_team_misc, get_team_ratings\n",
    "from basketball_reference_scraper.players import get_stats, get_game_logs, get_player_headshot\n",
    "\n",
    "# https://github.com/swar/nba_api\n",
    "from nba_api.stats.endpoints import playergamelog\n",
    "from nba_api.stats.static import players\n",
    "\n",
    "import requests\n",
    "\n",
    "from dotenv import load_dotenv\n",
    "import os\n",
    "from pathlib import Path\n",
    "\n",
    "from yahoo_oauth import OAuth2\n",
    "import yahoo_fantasy_api as yfa  # yahoo-fantasy-api.readthedocs.io/en/latest/yahoo_fantasy_api.html\n",
    "\n",
    "# Load the .env file from the current directory\n",
    "load_dotenv(dotenv_path = Path(\"../src/.env\"))"
   ]
  },
  {
   "cell_type": "code",
   "execution_count": 2,
   "id": "da915e72-ed91-477c-9d81-4520ecd9b475",
   "metadata": {},
   "outputs": [
    {
     "name": "stderr",
     "output_type": "stream",
     "text": [
      "C:\\Users\\wilman\\AppData\\Local\\Temp\\ipykernel_29144\\1501273197.py:1: DeprecationWarning: datetime.datetime.utcnow() is deprecated and scheduled for removal in a future version. Use timezone-aware objects to represent datetimes in UTC: datetime.datetime.now(datetime.UTC).\n",
      "  today = datetime.utcnow().date()\n"
     ]
    }
   ],
   "source": [
    "today = datetime.utcnow().date()"
   ]
  },
  {
   "cell_type": "code",
   "execution_count": 5,
   "id": "18363584-6a04-4cfb-b414-1bea52df8fb6",
   "metadata": {},
   "outputs": [
    {
     "name": "stderr",
     "output_type": "stream",
     "text": [
      "[2024-10-30 15:16:21,181 DEBUG] [yahoo_oauth.oauth.__init__] Checking \n",
      "[2024-10-30 15:16:21,183 DEBUG] [yahoo_oauth.oauth.token_is_valid] ELAPSED TIME : 4972.878912687302\n",
      "[2024-10-30 15:16:21,185 DEBUG] [yahoo_oauth.oauth.token_is_valid] TOKEN HAS EXPIRED\n",
      "[2024-10-30 15:16:21,186 DEBUG] [yahoo_oauth.oauth.refresh_access_token] REFRESHING TOKEN\n"
     ]
    }
   ],
   "source": [
    "# Get the absolute path to the 'src' directory\n",
    "src_path = os.path.abspath(os.path.join(os.getcwd(), '..', 'src'))\n",
    "oauth = OAuth2(None, None, from_file='../src/oauth2.json')\n",
    "\n",
    "gm = yfa.Game(oauth, 'nba')\n",
    "lg = yfa.League(oauth, '454.l.222542')\n"
   ]
  },
  {
   "cell_type": "markdown",
   "id": "a435c73f-af32-4b71-b53f-abaa29b1b2a4",
   "metadata": {},
   "source": [
    "## Preprocessing"
   ]
  },
  {
   "cell_type": "code",
   "execution_count": null,
   "id": "121f76b7-fcdc-4f9e-82c4-43e02f2d9a9e",
   "metadata": {},
   "outputs": [],
   "source": [
    "# Open the JSON file and load its content\n",
    "with open(\"../data/team_mapper.json\", 'r') as file:\n",
    "    team_mapper  = json.load(file)\n",
    "\n",
    "yahoo_to_bball = {v['Yahoo']: v['BBall Reference'] for k, v in team_mapper.items()}\n",
    "bball_to_yahoo_teams = {v['BBall Reference'] : v['Yahoo'] for k, v in team_mapper.items()}\n",
    "\n",
    "#team names to Yahoo codes\n",
    "team_to_yahoo_mapper = {team: details[\"Yahoo\"] for team, details in team_mapper.items()}\n"
   ]
  },
  {
   "cell_type": "code",
   "execution_count": null,
   "id": "7962dbd2-45d3-4f3f-8427-19146286c9ad",
   "metadata": {},
   "outputs": [],
   "source": [
    "# Import Data\n",
    "available_players = pd.read_csv('../data/Yahoo_DF_player_export.csv') # Update according to contest\n",
    "\n",
    "available_players['date'] = datetime.now().date()\n",
    "available_players['parsed_id'] = available_players['ID'].str.extract(r'nba\\.p\\.(\\d+)').astype(int)\n",
    "\n",
    "# Add Home_Away column using a lambda function\n",
    "available_players['Home_Game'] = available_players.apply(lambda x: '0' if f\"{x['Team']}@{x['Opponent']}\" == x['Game'] else '1', axis=1)\n",
    "\n",
    "available_players.head()"
   ]
  },
  {
   "cell_type": "code",
   "execution_count": null,
   "id": "e41371e2-ec59-4792-bf16-70216ea6be5a",
   "metadata": {},
   "outputs": [],
   "source": [
    "# Yahoo\n",
    "yahoo_teams_playing_today = available_players['Team'].unique()\n",
    "\n",
    "bball_reference_teams = np.array([yahoo_to_bball.get(team, team) for team in yahoo_teams_playing_today])\n"
   ]
  },
  {
   "cell_type": "code",
   "execution_count": null,
   "id": "cdc69171-c499-4319-bafb-dc09fd6ef400",
   "metadata": {},
   "outputs": [],
   "source": [
    "season_stats = pd.DataFrame(lg.player_stats(list(available_players['parsed_id']), 'average_season',  season=2024))\n",
    "\n",
    "season_stats.replace('-', np.nan, inplace=True)\n",
    "season_stats.set_index('name', inplace = True)"
   ]
  },
  {
   "cell_type": "markdown",
   "id": "2c51f04e-9eb0-4e88-9cdb-1b235037b4b4",
   "metadata": {},
   "source": [
    "## Team Stats"
   ]
  },
  {
   "cell_type": "code",
   "execution_count": null,
   "id": "c2471fa7-fafc-49be-92c8-a0f20fc1eaa4",
   "metadata": {
    "scrolled": true
   },
   "outputs": [],
   "source": [
    "team_ratings = get_team_ratings(2025, team=bball_reference_teams )\n",
    "for i, row in team_ratings.iterrows():\n",
    "    team = bball_to_yahoo_teams[row.TEAM]\n",
    "    \n",
    "    available_players.loc[available_players['Team'] == team, 'ORTG'] = row.ORTG\n",
    "    available_players.loc[available_players['Team'] == team, 'DRTG'] = row.DRTG\n",
    "\n",
    "    available_players.loc[available_players['Opponent'] == team, \"Opponent_ORTG\"] = row.ORTG  \n",
    "    available_players.loc[available_players['Opponent'] == team, \"Opponent_DRTG\"] = row.DRTG \n",
    "\n",
    "# Team Ranking for pace\n",
    "for team in bball_reference_teams:\n",
    "    try:\n",
    "        team_rank_sr = get_team_misc(team, 2025, 'RANK')\n",
    "\n",
    "        # Add the Series attributes to each row where 'Team'\n",
    "        for key, value in team_rank_sr.items():\n",
    "            available_players.loc[available_players['Team'] == team, key] = value\n",
    "            available_players.loc[available_players['Opponent'] == bball_to_yahoo_teams[team], \"Opponent_\"+key] = value            \n",
    "\n",
    "    except:\n",
    "        print(f\"Error with {team}\")  "
   ]
  },
  {
   "cell_type": "markdown",
   "id": "1b42883e-4856-4cd0-8919-ecf494ebbbe3",
   "metadata": {},
   "source": [
    "## Get Game Logs and actual fan points"
   ]
  },
  {
   "cell_type": "code",
   "execution_count": null,
   "id": "b9f169d6-697e-4ba2-80b0-890fcd7e5d64",
   "metadata": {},
   "outputs": [],
   "source": [
    "all_players = players.get_players()\n",
    "\n",
    "# Create a dictionary mapping player_id to player_name\n",
    "player_dict = {player['full_name'] : player['id']for player in all_players}"
   ]
  },
  {
   "cell_type": "code",
   "execution_count": null,
   "id": "48b5e20a-2118-4c1b-82ec-bec524717ae1",
   "metadata": {
    "scrolled": true
   },
   "outputs": [],
   "source": [
    "import logging \n",
    "\n",
    "error_players = []\n",
    "scoring_criteria = { 'PTS':1, 'REB': 1.2, 'AST':1.5, 'STL':3, 'BLK':3, 'TOV':-1}\n",
    "logging.basicConfig(level=logging.ERROR, format='%(asctime)s - %(levelname)s - %(message)s')\n",
    "\n",
    "for player_name in season_stats.index:\n",
    "\n",
    "    try: \n",
    "        player_id = player_dict[player_name]\n",
    "\n",
    "        game_log = playergamelog.PlayerGameLog(player_id, season='2024-25')\n",
    "\n",
    "        temp_df =  game_log.get_data_frames()[0]\n",
    "\n",
    "        temp_df['actual_FP'] = [sum(row[col] * scoring_criteria[col] for col in scoring_criteria ) for _, row in temp_df.iterrows() ]\n",
    "\n",
    "        #print(len(temp_df['actual_FP']))\n",
    "        \n",
    "        # last 3 games\n",
    "        FPS1 = temp_df['actual_FP'][0]\n",
    "        FPS2 = temp_df['actual_FP'][1]\n",
    "        FPS3 = temp_df['actual_FP'][2]\n",
    "\n",
    "\n",
    "        season_stats.loc[player_name, 'FPS1'] = FPS1\n",
    "        season_stats.loc[player_name, 'FPS2'] = FPS2\n",
    "        season_stats.loc[player_name, 'FPS3'] = FPS3\n",
    "\n",
    "    \n",
    "    except Exception as e:\n",
    "        # take a whil to run\n",
    "        #logging.error(f\"Error processing player {player_name}: {e}\")\n",
    "        error_players.append(player_name)\n",
    "\n",
    "\n"
   ]
  },
  {
   "cell_type": "markdown",
   "id": "1dac7a1a-8e11-490c-bec9-983994a28b4e",
   "metadata": {},
   "source": [
    "## Vegas Odds"
   ]
  },
  {
   "cell_type": "code",
   "execution_count": null,
   "id": "fb25dab9-f0da-4d5d-ba3c-98f120d4cb37",
   "metadata": {},
   "outputs": [],
   "source": [
    "# Parameters:\n",
    "\n",
    "API_KEY = os.getenv(\"odds_API_KEY\")\n",
    "\n",
    "SPORT = \"upcoming\" # use the sport_key from the /sports endpoint below, or use 'upcoming' to see the next 8 games across all sports\n",
    "\n",
    "REGIONS = \"us\" # uk | us | eu | au. Multiple can be specified if comma delimited\n",
    "\n",
    "MARKETS = \"h2h,spreads\" # h2h | spreads | totals. Multiple can be specified if comma delimited\n",
    "\n",
    "ODDS_FORMAT = \"decimal\" # decimal | american\n",
    "\n",
    "DATE_FORMAT = \"iso\" # iso | unix\n",
    "\n",
    "COMMENCE_TIME = f\"{str(today)}T00:00:00Z\"\n"
   ]
  },
  {
   "cell_type": "code",
   "execution_count": null,
   "id": "88532f51-087e-4a39-814b-14d8b0e9aa15",
   "metadata": {},
   "outputs": [],
   "source": [
    "# Get today's odds\n",
    "# https://the-odds-api.com/liveapi/guides/v4/\n",
    "odds_response = requests.get(\n",
    "    f'https://api.the-odds-api.com/v4/sports/basketball_nba/odds',\n",
    "    params={\n",
    "        'api_key': API_KEY,\n",
    "        'regions': REGIONS,\n",
    "        'markets': MARKETS,\n",
    "        'oddsFormat': ODDS_FORMAT,\n",
    "        'dateFormat': DATE_FORMAT,\n",
    "        'commenceTimeFrom': COMMENCE_TIME\n",
    "    }\n",
    ")\n",
    "\n",
    "json_odds = odds_response.json()"
   ]
  },
  {
   "cell_type": "code",
   "execution_count": null,
   "id": "e1a4fdec-13db-4f68-9ef8-a9b5741176ea",
   "metadata": {},
   "outputs": [],
   "source": [
    "filtered_data = [\n",
    "    game for game in json_odds\n",
    "    if datetime.strptime(game['commence_time'], '%Y-%m-%dT%H:%M:%SZ')\n",
    "    .replace(tzinfo=pytz.utc)\n",
    "    .astimezone(pytz.timezone('US/Central')).date() == today\n",
    "]"
   ]
  },
  {
   "cell_type": "code",
   "execution_count": null,
   "id": "8bd7e247-9a4c-463b-a7c1-ec601f625cca",
   "metadata": {},
   "outputs": [],
   "source": [
    "# Export for historical\n",
    "with open(f\"../data/odds_history/nba_vegas_odds_{today}.json\", 'w') as output_file:\n",
    "    json.dump(filtered_data, output_file, indent=4)"
   ]
  },
  {
   "cell_type": "code",
   "execution_count": null,
   "id": "3866e933-37ac-4622-8304-50d417791afe",
   "metadata": {},
   "outputs": [],
   "source": [
    "# Parse odds into a DataFrame\n",
    "odds_list = []\n",
    "\n",
    "for game in filtered_data:\n",
    "    home_team = game['home_team']\n",
    "    away_team = game['away_team']\n",
    "    for bookmaker in game['bookmakers']:\n",
    "        for market in bookmaker['markets']:\n",
    "            if market['key'] == 'h2h':\n",
    "                for outcome in market['outcomes']:\n",
    "                    odds_list.append({\n",
    "                        'Team': outcome['name'],\n",
    "                        'Odds': outcome['price']\n",
    "                    })\n",
    "odds_df = pd.DataFrame(odds_list)\n",
    "\n",
    "# Group by 'Team' and calculate the average odds for each team\n",
    "grouped_odds = odds_df.groupby('Team').agg({'Odds': 'mean'}).reset_index()\n",
    "\n",
    "grouped_odds['Team_Abbreviation'] = grouped_odds['Team'].replace(team_to_yahoo_mapper)"
   ]
  },
  {
   "cell_type": "code",
   "execution_count": null,
   "id": "91321c13-2f55-405e-b49b-01747fe79de4",
   "metadata": {},
   "outputs": [],
   "source": [
    "# for today's date\n",
    "print(f\"Odds for {today}\")\n",
    "grouped_odds"
   ]
  },
  {
   "cell_type": "markdown",
   "id": "c0582c00-8143-4d52-86b1-3fdcd0c3eaaa",
   "metadata": {},
   "source": [
    "## Combine Dfs"
   ]
  },
  {
   "cell_type": "code",
   "execution_count": null,
   "id": "49b5cf0b-02f2-463b-a9f9-3155da39e3d9",
   "metadata": {},
   "outputs": [],
   "source": [
    "merged_df = pd.merge(available_players, season_stats, left_on='parsed_id', right_on='player_id', how='inner')"
   ]
  },
  {
   "cell_type": "markdown",
   "id": "42820c55-f2fe-438e-a959-caf29ad5224e",
   "metadata": {},
   "source": [
    "Additional Metrics: Weighted FPS, Home/Away Modifier, Opponent Modifier, Team Modifier, Game Pace"
   ]
  },
  {
   "cell_type": "code",
   "execution_count": null,
   "id": "86bdeafc-ee3c-4f47-8267-17b9e9103af3",
   "metadata": {},
   "outputs": [],
   "source": [
    "# Calculate weighted average of recent FPS (Fantasy Points Scored)\n",
    "merged_df['weighted_FPS'] = ( 0.4 * merged_df['FPPG'] + 0.3 * merged_df['FPS1'] + 0.2 * merged_df['FPS2'] + 0.1 * merged_df['FPS3'])\n",
    "\n",
    "# Calculate Home/Away Modifier\n",
    "# If home, increase value slightly (e.g., by 5%), otherwise decrease\n",
    "merged_df['Home_Modifier'] = merged_df['Home_Game'].apply(lambda x: 1.05 if x == 1 else 0.95)\n",
    "\n",
    "# Calculate Opponent Difficulty Modifier\n",
    "# Use opponent defensive rating (DRtg): Higher DRtg means worse defense, good for our player\n",
    "merged_df['Opponent_Modifier'] = merged_df['Opponent_DRTG'].apply(lambda x: 1.0 + (100 - x) / 100 if x < 100 else 1.0)\n",
    "\n",
    "# Calculate Team Offensive Rating Modifier\n",
    "# Higher offensive rating is better\n",
    "merged_df['Team_Modifier'] = merged_df['ORTG'].apply(lambda x: 1.0 + (x - 100) / 100 if x > 100 else 1.0)\n",
    "\n",
    "# Calculate Pace Modifier\n",
    "# Use both team pace and opponent pace: More possessions mean more opportunities for stats\n",
    "merged_df['Pace_Modifier'] = (merged_df['Pace'] + merged_df['Opponent_Pace']) / 200\n"
   ]
  },
  {
   "cell_type": "markdown",
   "id": "0eb4d318-c2d0-41bf-8553-50ec1ab22cd3",
   "metadata": {},
   "source": [
    "## Merge against odds"
   ]
  },
  {
   "cell_type": "code",
   "execution_count": null,
   "id": "29972f6a-c66b-458e-8863-3f349519cff2",
   "metadata": {},
   "outputs": [],
   "source": [
    "merged_df = merged_df.merge(grouped_odds[['Team_Abbreviation', 'Odds']], left_on='Team', right_on='Team_Abbreviation', how='left')\n",
    "merged_df.rename(columns={'Odds': 'Team_Odds'}, inplace=True)\n",
    "merged_df.drop(columns='Team_Abbreviation', inplace=True)\n",
    "\n",
    "merged_df = merged_df.merge(grouped_odds[['Team_Abbreviation', 'Odds']], left_on='Opponent', right_on='Team_Abbreviation', how='left')\n",
    "merged_df.rename(columns={'Odds': 'Opponent_Odds'}, inplace=True)\n",
    "merged_df.drop(columns='Team_Abbreviation', inplace=True)"
   ]
  },
  {
   "cell_type": "code",
   "execution_count": null,
   "id": "9d373c34-465b-4940-a3fc-06a87c3ea944",
   "metadata": {},
   "outputs": [],
   "source": [
    "# Incorporate team and opponent odds to calculate the Value_Score\n",
    "merged_df['Adjusted_Team_Odds'] = 1 / merged_df['Team_Odds']\n",
    "merged_df['Adjusted_Opponent_Odds'] = 1 / merged_df['Opponent_Odds']\n",
    "\n",
    "# Normalize Adjusted Odds to avoid large disparities\n",
    "merged_df['Normalized_Team_Odds'] = merged_df['Adjusted_Team_Odds'] / merged_df['Adjusted_Team_Odds'].max()\n",
    "merged_df['Normalized_Opponent_Odds'] = merged_df['Adjusted_Opponent_Odds'] / merged_df['Adjusted_Opponent_Odds'].max()\n"
   ]
  },
  {
   "cell_type": "code",
   "execution_count": null,
   "id": "775ccf76-b1d9-4e93-801e-0c1fb899dcc5",
   "metadata": {},
   "outputs": [],
   "source": [
    "# Calculate the new Value_Score including the odds\n",
    "merged_df['Value_Score'] = (\n",
    "    merged_df['weighted_FPS'] *\n",
    "    merged_df['Home_Modifier'] *\n",
    "    merged_df['Opponent_Modifier'] *\n",
    "    merged_df['Team_Modifier'] *\n",
    "    #merged_df['Pace_Modifier'] *\n",
    "    merged_df['Normalized_Team_Odds'] *\n",
    "    merged_df['Normalized_Opponent_Odds']\n",
    ") / merged_df['Salary']\n",
    "\n",
    "# Drop any where value score is NaN.\n",
    "#merged_df.dropna(subset=['Value_Score'], inplace = True)"
   ]
  },
  {
   "cell_type": "code",
   "execution_count": null,
   "id": "eeb16d7f-8e67-4ba3-8ef9-b1f7691fb594",
   "metadata": {},
   "outputs": [],
   "source": [
    "merged_df"
   ]
  },
  {
   "cell_type": "markdown",
   "id": "c84fe145-24ad-48ca-81ec-c058ddc81d78",
   "metadata": {},
   "source": [
    "## Final Output"
   ]
  },
  {
   "cell_type": "code",
   "execution_count": null,
   "id": "634050b7-2870-4f4e-b3ad-25bc7049052e",
   "metadata": {},
   "outputs": [],
   "source": [
    "merged_df.to_csv(f\"../outputs/lineup_{datetime.now().date()}.csv\")"
   ]
  },
  {
   "cell_type": "code",
   "execution_count": null,
   "id": "16a5a853-49aa-427f-9ef5-03a597427381",
   "metadata": {},
   "outputs": [],
   "source": [
    "merged_df.head()"
   ]
  },
  {
   "cell_type": "code",
   "execution_count": null,
   "id": "3bea81a9-c9f1-4600-9a99-16245740aa8f",
   "metadata": {},
   "outputs": [],
   "source": []
  }
 ],
 "metadata": {
  "kernelspec": {
   "display_name": "Python 3 (ipykernel)",
   "language": "python",
   "name": "python3"
  },
  "language_info": {
   "codemirror_mode": {
    "name": "ipython",
    "version": 3
   },
   "file_extension": ".py",
   "mimetype": "text/x-python",
   "name": "python",
   "nbconvert_exporter": "python",
   "pygments_lexer": "ipython3",
   "version": "3.12.6"
  }
 },
 "nbformat": 4,
 "nbformat_minor": 5
}
