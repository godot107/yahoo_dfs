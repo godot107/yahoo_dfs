{
 "cells": [
  {
   "cell_type": "code",
   "execution_count": 32,
   "id": "59ddda08-015a-4e01-bac7-4f2ad8bd3c13",
   "metadata": {
    "scrolled": true
   },
   "outputs": [],
   "source": [
    "from selenium import webdriver\n",
    "from selenium.webdriver.common.by import By\n",
    "from selenium.webdriver.common.keys import Keys\n",
    "from selenium.webdriver.support.ui import WebDriverWait\n",
    "from selenium.webdriver.support import expected_conditions as EC\n",
    "from selenium.common.exceptions import TimeoutException\n",
    "import time\n",
    "import pandas as pd\n",
    "from datetime import datetime\n",
    "import sqlite3\n",
    "\n",
    "\n",
    "# Set up the web driver (make sure to install the appropriate WebDriver, like ChromeDriver)\n",
    "options = webdriver.ChromeOptions()\n",
    "#options.add_argument(\"--headless\")  # Run headlessly for better performance, but no window\n",
    "\n",
    "options.add_experimental_option(\"prefs\", {\n",
    "    \"download.default_directory\": r\"C:\\Users\\wilman\\py_envs\\yahoo_dfs\\data\",  # Set your download folder path here\n",
    "    \"download.prompt_for_download\": False,\n",
    "    \"download.directory_upgrade\": True, \n",
    "    #\"safebrowsing.enabled\": True\n",
    "})\n",
    "\n",
    "\n",
    "driver = webdriver.Chrome(service=webdriver.chrome.service.Service('../src/chromedriver-win32/chromedriver.exe'), options=options)\n"
   ]
  },
  {
   "cell_type": "markdown",
   "id": "8daf398b-1630-4a96-98a4-0f06f1b8d8ef",
   "metadata": {},
   "source": [
    "Method #1: Gather lineup for the DFS"
   ]
  },
  {
   "cell_type": "code",
   "execution_count": 33,
   "id": "54bde3cf-bfe4-4d0d-bf60-723f54284cd9",
   "metadata": {
    "scrolled": true
   },
   "outputs": [],
   "source": [
    "contest_id = \"\"\n",
    "driver.get(f\"https://sports.yahoo.com/dailyfantasy/contest/{contest_id}/setlineup\")\n",
    "\n",
    "# click out of popups\n",
    "## TBD\n",
    "\n",
    "# Scroll down to load content until there’s no more new content\n",
    "last_height = driver.execute_script(\"return document.body.scrollHeight\")\n",
    "while True:\n",
    "    # Scroll down\n",
    "    driver.execute_script(\"window.scrollTo(0, document.body.scrollHeight);\")\n",
    "    # Wait for content to load\n",
    "    time.sleep(3)\n",
    "    \n",
    "    # Check if more content has been loaded\n",
    "    new_height = driver.execute_script(\"return document.body.scrollHeight\")\n",
    "    if new_height == last_height:\n",
    "        break\n",
    "    last_height = new_height"
   ]
  },
  {
   "cell_type": "code",
   "execution_count": 51,
   "id": "ca656e41-7ecf-4656-8599-a22f7d8eee02",
   "metadata": {},
   "outputs": [],
   "source": [
    "# Locate and extract player names and salaries using XPath\n",
    "players_data = []\n",
    "today = datetime.today().date()\n",
    "base_url = \"/html[@id='atomic']/body/div[@id='app']/div[@id='page']/div/div[@id='render-target-default']/div/div[@id='content']/div[@class='Mx(a) Pb(10px) Bbbw(1px) Bdbs(s) Bdbc($c-fuji-dirty-seagull) W(1080px) Thm-lite']/div[@class='Pos(r)']/div[@class='IbBox W(3/5)']/div[@id='jumptocontent']/div[@id='primary-1-DesktopLineupSelection-Proxy']/div[@id='lineupSelection']/div[@class='Px(10px)']/div[@class='Pb(10px) Px(10px)']/div[@class='Us(n) Mih(670px)']/table[@class='W(100%) Hover TableRowBorderTop TableVa(m) Mt(-1px) LinkColorOnHover']/tbody[@class='infinite-scroll-list']/tr[@class='Cur(p)']\"\n",
    "n_players = 200\n",
    "for player in range(1,n_players+1):\n",
    "    player_name_xpath = f\"{base_url}[{player}]/td[@class='Px(6px) Py(10px)']/a[@class='Td(n)']\"\n",
    "    salary_xpath = f\"{base_url}[{player}]/td[@class='Px(6px) Py(10px) Ta(end)'][3]/span/span\"\n",
    "    pos_xpath = f\"{base_url}[{player}]/td[@class='Px(6px) Py(10px) Ta(end)'][1]/span[@class='Fw(b)']\"\n",
    "    FPPG_xpath = f\"{base_url}[{player}]/td[@class='Px(6px) Py(10px) Ta(end) Whs(nw)']/div/span[@class='IbBox Va(m) Pstart(4px)']\"\n",
    "    std_xpath = \n",
    "    \n",
    "    try:\n",
    "        pos = driver.find_element(By.XPATH, pos_xpath).text  \n",
    "        name = driver.find_element(By.XPATH, player_name_xpath).text \n",
    "        salary = driver.find_element(By.XPATH, salary_xpath).text  \n",
    "        FPPG = driver.find_element(By.XPATH, FPPG_xpath).text  \n",
    "        players_data.append({\"Pos\":pos, \"Name\": name, \"FPPG\": FPPG,\"Salary\": salary, \"Date\":today})\n",
    "    except Exception as e:\n",
    "        print(\"Error extracting player data:\", e)"
   ]
  },
  {
   "cell_type": "code",
   "execution_count": 52,
   "id": "2927a826-4dbe-4a00-9c4b-a291996ad919",
   "metadata": {
    "scrolled": true
   },
   "outputs": [],
   "source": [
    "df = pd.DataFrame(players_data)\n",
    "df.to_csv(f\"../data/available_players_{str(today)}.csv\")"
   ]
  },
  {
   "cell_type": "code",
   "execution_count": 53,
   "id": "6784c419-e38b-4725-8e4a-f62a4392d28f",
   "metadata": {},
   "outputs": [
    {
     "data": {
      "text/html": [
       "<div>\n",
       "<style scoped>\n",
       "    .dataframe tbody tr th:only-of-type {\n",
       "        vertical-align: middle;\n",
       "    }\n",
       "\n",
       "    .dataframe tbody tr th {\n",
       "        vertical-align: top;\n",
       "    }\n",
       "\n",
       "    .dataframe thead th {\n",
       "        text-align: right;\n",
       "    }\n",
       "</style>\n",
       "<table border=\"1\" class=\"dataframe\">\n",
       "  <thead>\n",
       "    <tr style=\"text-align: right;\">\n",
       "      <th></th>\n",
       "      <th>Pos</th>\n",
       "      <th>Name</th>\n",
       "      <th>FPPG</th>\n",
       "      <th>Salary</th>\n",
       "      <th>Date</th>\n",
       "    </tr>\n",
       "  </thead>\n",
       "  <tbody>\n",
       "    <tr>\n",
       "      <th>0</th>\n",
       "      <td>PF</td>\n",
       "      <td>Giannis Antetokounmpo</td>\n",
       "      <td>52.3</td>\n",
       "      <td>$55</td>\n",
       "      <td>2024-10-25</td>\n",
       "    </tr>\n",
       "    <tr>\n",
       "      <th>1</th>\n",
       "      <td>C</td>\n",
       "      <td>Joel Embiid</td>\n",
       "      <td>60.5</td>\n",
       "      <td>$54</td>\n",
       "      <td>2024-10-25</td>\n",
       "    </tr>\n",
       "    <tr>\n",
       "      <th>2</th>\n",
       "      <td>C</td>\n",
       "      <td>Anthony Davis</td>\n",
       "      <td>72.2</td>\n",
       "      <td>$54</td>\n",
       "      <td>2024-10-25</td>\n",
       "    </tr>\n",
       "    <tr>\n",
       "      <th>3</th>\n",
       "      <td>PF</td>\n",
       "      <td>Kevin Durant</td>\n",
       "      <td>38.4</td>\n",
       "      <td>$49</td>\n",
       "      <td>2024-10-25</td>\n",
       "    </tr>\n",
       "    <tr>\n",
       "      <th>4</th>\n",
       "      <td>SF</td>\n",
       "      <td>LeBron James</td>\n",
       "      <td>32.0</td>\n",
       "      <td>$48</td>\n",
       "      <td>2024-10-25</td>\n",
       "    </tr>\n",
       "  </tbody>\n",
       "</table>\n",
       "</div>"
      ],
      "text/plain": [
       "  Pos                   Name  FPPG Salary        Date\n",
       "0  PF  Giannis Antetokounmpo  52.3    $55  2024-10-25\n",
       "1   C            Joel Embiid  60.5    $54  2024-10-25\n",
       "2   C          Anthony Davis  72.2    $54  2024-10-25\n",
       "3  PF           Kevin Durant  38.4    $49  2024-10-25\n",
       "4  SF           LeBron James  32.0    $48  2024-10-25"
      ]
     },
     "execution_count": 53,
     "metadata": {},
     "output_type": "execute_result"
    }
   ],
   "source": [
    "df.head()"
   ]
  },
  {
   "cell_type": "markdown",
   "id": "5dfd3650-7733-4273-8332-f005b0fb1775",
   "metadata": {},
   "source": [
    "Method #2: Download available players from UI"
   ]
  },
  {
   "cell_type": "code",
   "execution_count": 34,
   "id": "ca48746d-1c1e-4976-83a1-dc66137cde9a",
   "metadata": {},
   "outputs": [],
   "source": [
    "contest_id = \"14255365\"\n",
    "driver.get(f\"https://sports.yahoo.com/dailyfantasy/contest/{contest_id}/setlineup\")"
   ]
  },
  {
   "cell_type": "code",
   "execution_count": 35,
   "id": "392f7e3b-9c1d-4eb7-a99c-8842730c0343",
   "metadata": {},
   "outputs": [
    {
     "ename": "NoSuchWindowException",
     "evalue": "Message: no such window: target window already closed\nfrom unknown error: web view not found\n  (Session info: chrome=130.0.6723.70)\nStacktrace:\n\tGetHandleVerifier [0x00573853+24035]\n\t(No symbol) [0x004FBBE4]\n\t(No symbol) [0x003DC2D3]\n\t(No symbol) [0x003BE00B]\n\t(No symbol) [0x00445F4F]\n\t(No symbol) [0x00458E99]\n\t(No symbol) [0x0043FC26]\n\t(No symbol) [0x0041218C]\n\t(No symbol) [0x0041310D]\n\tGetHandleVerifier [0x00819683+2800659]\n\tGetHandleVerifier [0x0087423E+3172302]\n\tGetHandleVerifier [0x0086CE52+3142626]\n\tGetHandleVerifier [0x00616C00+692624]\n\t(No symbol) [0x00504BFD]\n\t(No symbol) [0x00501908]\n\t(No symbol) [0x00501AA0]\n\t(No symbol) [0x004F3F50]\n\tBaseThreadInitThunk [0x75997BA9+25]\n\tRtlInitializeExceptionChain [0x77A6C0CB+107]\n\tRtlClearBits [0x77A6C04F+191]\n",
     "output_type": "error",
     "traceback": [
      "\u001b[1;31m---------------------------------------------------------------------------\u001b[0m",
      "\u001b[1;31mNoSuchWindowException\u001b[0m                     Traceback (most recent call last)",
      "Cell \u001b[1;32mIn[35], line 1\u001b[0m\n\u001b[1;32m----> 1\u001b[0m info_icon \u001b[38;5;241m=\u001b[39m \u001b[43mwait\u001b[49m\u001b[38;5;241;43m.\u001b[39;49m\u001b[43muntil\u001b[49m\u001b[43m(\u001b[49m\u001b[43mEC\u001b[49m\u001b[38;5;241;43m.\u001b[39;49m\u001b[43melement_to_be_clickable\u001b[49m\u001b[43m(\u001b[49m\u001b[43m(\u001b[49m\u001b[43mBy\u001b[49m\u001b[38;5;241;43m.\u001b[39;49m\u001b[43mXPATH\u001b[49m\u001b[43m,\u001b[49m\u001b[43m \u001b[49m\u001b[38;5;124;43m\"\u001b[39;49m\u001b[38;5;124;43m/html[@id=\u001b[39;49m\u001b[38;5;124;43m'\u001b[39;49m\u001b[38;5;124;43matomic\u001b[39;49m\u001b[38;5;124;43m'\u001b[39;49m\u001b[38;5;124;43m]/body/div[@id=\u001b[39;49m\u001b[38;5;124;43m'\u001b[39;49m\u001b[38;5;124;43mapp\u001b[39;49m\u001b[38;5;124;43m'\u001b[39;49m\u001b[38;5;124;43m]/div[@id=\u001b[39;49m\u001b[38;5;124;43m'\u001b[39;49m\u001b[38;5;124;43mpage\u001b[39;49m\u001b[38;5;124;43m'\u001b[39;49m\u001b[38;5;124;43m]/div/div[@id=\u001b[39;49m\u001b[38;5;124;43m'\u001b[39;49m\u001b[38;5;124;43mrender-target-default\u001b[39;49m\u001b[38;5;124;43m'\u001b[39;49m\u001b[38;5;124;43m]/div/div[@id=\u001b[39;49m\u001b[38;5;124;43m'\u001b[39;49m\u001b[38;5;124;43mcontent\u001b[39;49m\u001b[38;5;124;43m'\u001b[39;49m\u001b[38;5;124;43m]/div[@class=\u001b[39;49m\u001b[38;5;124;43m'\u001b[39;49m\u001b[38;5;124;43mMx(a) Pb(10px) Bbbw(1px) Bdbs(s) Bdbc($c-fuji-dirty-seagull) W(1080px) Thm-lite\u001b[39;49m\u001b[38;5;124;43m'\u001b[39;49m\u001b[38;5;124;43m]/div[2]/div[@id=\u001b[39;49m\u001b[38;5;124;43m'\u001b[39;49m\u001b[38;5;124;43mtop-0-ContestDetailsHeaderWrapper-Proxy\u001b[39;49m\u001b[38;5;124;43m'\u001b[39;49m\u001b[38;5;124;43m]/div[@class=\u001b[39;49m\u001b[38;5;124;43m'\u001b[39;49m\u001b[38;5;124;43mP(10px) Pb(0)\u001b[39;49m\u001b[38;5;124;43m'\u001b[39;49m\u001b[38;5;124;43m]/div/div[@class=\u001b[39;49m\u001b[38;5;124;43m'\u001b[39;49m\u001b[38;5;124;43mPy(10px) Pb(0) Mb(10px) Cf Bb-accent\u001b[39;49m\u001b[38;5;124;43m'\u001b[39;49m\u001b[38;5;124;43m]/div[@class=\u001b[39;49m\u001b[38;5;124;43m'\u001b[39;49m\u001b[38;5;124;43mIbBox Pos(r)\u001b[39;49m\u001b[38;5;124;43m'\u001b[39;49m\u001b[38;5;124;43m]/div[@class=\u001b[39;49m\u001b[38;5;124;43m'\u001b[39;49m\u001b[38;5;124;43mD(ib) Va(m)\u001b[39;49m\u001b[38;5;124;43m'\u001b[39;49m\u001b[38;5;124;43m]/div[@class=\u001b[39;49m\u001b[38;5;124;43m'\u001b[39;49m\u001b[38;5;124;43mIbBox\u001b[39;49m\u001b[38;5;124;43m'\u001b[39;49m\u001b[38;5;124;43m]/h4[@class=\u001b[39;49m\u001b[38;5;124;43m'\u001b[39;49m\u001b[38;5;124;43mFw(400) Fz(fz-xl) Mb(4px) Mt(0)\u001b[39;49m\u001b[38;5;124;43m'\u001b[39;49m\u001b[38;5;124;43m]/span[@class=\u001b[39;49m\u001b[38;5;124;43m'\u001b[39;49m\u001b[38;5;124;43mFw(200)\u001b[39;49m\u001b[38;5;124;43m'\u001b[39;49m\u001b[38;5;124;43m]/i[@class=\u001b[39;49m\u001b[38;5;124;43m'\u001b[39;49m\u001b[38;5;124;43mys-icon-info_outline C(button-primary-color) Cur(p) M(6px) Fz(15px)\u001b[39;49m\u001b[38;5;124;43m'\u001b[39;49m\u001b[38;5;124;43m]\u001b[39;49m\u001b[38;5;124;43m\"\u001b[39;49m\u001b[43m)\u001b[49m\u001b[43m)\u001b[49m\u001b[43m)\u001b[49m\n\u001b[0;32m      2\u001b[0m info_icon\u001b[38;5;241m.\u001b[39mclick()\n",
      "File \u001b[1;32m~\\py_envs\\gen_env\\Lib\\site-packages\\selenium\\webdriver\\support\\wait.py:96\u001b[0m, in \u001b[0;36mWebDriverWait.until\u001b[1;34m(self, method, message)\u001b[0m\n\u001b[0;32m     94\u001b[0m \u001b[38;5;28;01mwhile\u001b[39;00m \u001b[38;5;28;01mTrue\u001b[39;00m:\n\u001b[0;32m     95\u001b[0m     \u001b[38;5;28;01mtry\u001b[39;00m:\n\u001b[1;32m---> 96\u001b[0m         value \u001b[38;5;241m=\u001b[39m \u001b[43mmethod\u001b[49m\u001b[43m(\u001b[49m\u001b[38;5;28;43mself\u001b[39;49m\u001b[38;5;241;43m.\u001b[39;49m\u001b[43m_driver\u001b[49m\u001b[43m)\u001b[49m\n\u001b[0;32m     97\u001b[0m         \u001b[38;5;28;01mif\u001b[39;00m value:\n\u001b[0;32m     98\u001b[0m             \u001b[38;5;28;01mreturn\u001b[39;00m value\n",
      "File \u001b[1;32m~\\py_envs\\gen_env\\Lib\\site-packages\\selenium\\webdriver\\support\\expected_conditions.py:363\u001b[0m, in \u001b[0;36melement_to_be_clickable.<locals>._predicate\u001b[1;34m(driver)\u001b[0m\n\u001b[0;32m    361\u001b[0m target \u001b[38;5;241m=\u001b[39m mark\n\u001b[0;32m    362\u001b[0m \u001b[38;5;28;01mif\u001b[39;00m \u001b[38;5;129;01mnot\u001b[39;00m \u001b[38;5;28misinstance\u001b[39m(target, WebElement):  \u001b[38;5;66;03m# if given locator instead of WebElement\u001b[39;00m\n\u001b[1;32m--> 363\u001b[0m     target \u001b[38;5;241m=\u001b[39m \u001b[43mdriver\u001b[49m\u001b[38;5;241;43m.\u001b[39;49m\u001b[43mfind_element\u001b[49m\u001b[43m(\u001b[49m\u001b[38;5;241;43m*\u001b[39;49m\u001b[43mtarget\u001b[49m\u001b[43m)\u001b[49m  \u001b[38;5;66;03m# grab element at locator\u001b[39;00m\n\u001b[0;32m    364\u001b[0m element \u001b[38;5;241m=\u001b[39m visibility_of(target)(driver)\n\u001b[0;32m    365\u001b[0m \u001b[38;5;28;01mif\u001b[39;00m element \u001b[38;5;129;01mand\u001b[39;00m element\u001b[38;5;241m.\u001b[39mis_enabled():\n",
      "File \u001b[1;32m~\\py_envs\\gen_env\\Lib\\site-packages\\selenium\\webdriver\\remote\\webdriver.py:748\u001b[0m, in \u001b[0;36mWebDriver.find_element\u001b[1;34m(self, by, value)\u001b[0m\n\u001b[0;32m    745\u001b[0m     by \u001b[38;5;241m=\u001b[39m By\u001b[38;5;241m.\u001b[39mCSS_SELECTOR\n\u001b[0;32m    746\u001b[0m     value \u001b[38;5;241m=\u001b[39m \u001b[38;5;124mf\u001b[39m\u001b[38;5;124m'\u001b[39m\u001b[38;5;124m[name=\u001b[39m\u001b[38;5;124m\"\u001b[39m\u001b[38;5;132;01m{\u001b[39;00mvalue\u001b[38;5;132;01m}\u001b[39;00m\u001b[38;5;124m\"\u001b[39m\u001b[38;5;124m]\u001b[39m\u001b[38;5;124m'\u001b[39m\n\u001b[1;32m--> 748\u001b[0m \u001b[38;5;28;01mreturn\u001b[39;00m \u001b[38;5;28;43mself\u001b[39;49m\u001b[38;5;241;43m.\u001b[39;49m\u001b[43mexecute\u001b[49m\u001b[43m(\u001b[49m\u001b[43mCommand\u001b[49m\u001b[38;5;241;43m.\u001b[39;49m\u001b[43mFIND_ELEMENT\u001b[49m\u001b[43m,\u001b[49m\u001b[43m \u001b[49m\u001b[43m{\u001b[49m\u001b[38;5;124;43m\"\u001b[39;49m\u001b[38;5;124;43musing\u001b[39;49m\u001b[38;5;124;43m\"\u001b[39;49m\u001b[43m:\u001b[49m\u001b[43m \u001b[49m\u001b[43mby\u001b[49m\u001b[43m,\u001b[49m\u001b[43m \u001b[49m\u001b[38;5;124;43m\"\u001b[39;49m\u001b[38;5;124;43mvalue\u001b[39;49m\u001b[38;5;124;43m\"\u001b[39;49m\u001b[43m:\u001b[49m\u001b[43m \u001b[49m\u001b[43mvalue\u001b[49m\u001b[43m}\u001b[49m\u001b[43m)\u001b[49m[\u001b[38;5;124m\"\u001b[39m\u001b[38;5;124mvalue\u001b[39m\u001b[38;5;124m\"\u001b[39m]\n",
      "File \u001b[1;32m~\\py_envs\\gen_env\\Lib\\site-packages\\selenium\\webdriver\\remote\\webdriver.py:354\u001b[0m, in \u001b[0;36mWebDriver.execute\u001b[1;34m(self, driver_command, params)\u001b[0m\n\u001b[0;32m    352\u001b[0m response \u001b[38;5;241m=\u001b[39m \u001b[38;5;28mself\u001b[39m\u001b[38;5;241m.\u001b[39mcommand_executor\u001b[38;5;241m.\u001b[39mexecute(driver_command, params)\n\u001b[0;32m    353\u001b[0m \u001b[38;5;28;01mif\u001b[39;00m response:\n\u001b[1;32m--> 354\u001b[0m     \u001b[38;5;28;43mself\u001b[39;49m\u001b[38;5;241;43m.\u001b[39;49m\u001b[43merror_handler\u001b[49m\u001b[38;5;241;43m.\u001b[39;49m\u001b[43mcheck_response\u001b[49m\u001b[43m(\u001b[49m\u001b[43mresponse\u001b[49m\u001b[43m)\u001b[49m\n\u001b[0;32m    355\u001b[0m     response[\u001b[38;5;124m\"\u001b[39m\u001b[38;5;124mvalue\u001b[39m\u001b[38;5;124m\"\u001b[39m] \u001b[38;5;241m=\u001b[39m \u001b[38;5;28mself\u001b[39m\u001b[38;5;241m.\u001b[39m_unwrap_value(response\u001b[38;5;241m.\u001b[39mget(\u001b[38;5;124m\"\u001b[39m\u001b[38;5;124mvalue\u001b[39m\u001b[38;5;124m\"\u001b[39m, \u001b[38;5;28;01mNone\u001b[39;00m))\n\u001b[0;32m    356\u001b[0m     \u001b[38;5;28;01mreturn\u001b[39;00m response\n",
      "File \u001b[1;32m~\\py_envs\\gen_env\\Lib\\site-packages\\selenium\\webdriver\\remote\\errorhandler.py:229\u001b[0m, in \u001b[0;36mErrorHandler.check_response\u001b[1;34m(self, response)\u001b[0m\n\u001b[0;32m    227\u001b[0m         alert_text \u001b[38;5;241m=\u001b[39m value[\u001b[38;5;124m\"\u001b[39m\u001b[38;5;124malert\u001b[39m\u001b[38;5;124m\"\u001b[39m]\u001b[38;5;241m.\u001b[39mget(\u001b[38;5;124m\"\u001b[39m\u001b[38;5;124mtext\u001b[39m\u001b[38;5;124m\"\u001b[39m)\n\u001b[0;32m    228\u001b[0m     \u001b[38;5;28;01mraise\u001b[39;00m exception_class(message, screen, stacktrace, alert_text)  \u001b[38;5;66;03m# type: ignore[call-arg]  # mypy is not smart enough here\u001b[39;00m\n\u001b[1;32m--> 229\u001b[0m \u001b[38;5;28;01mraise\u001b[39;00m exception_class(message, screen, stacktrace)\n",
      "\u001b[1;31mNoSuchWindowException\u001b[0m: Message: no such window: target window already closed\nfrom unknown error: web view not found\n  (Session info: chrome=130.0.6723.70)\nStacktrace:\n\tGetHandleVerifier [0x00573853+24035]\n\t(No symbol) [0x004FBBE4]\n\t(No symbol) [0x003DC2D3]\n\t(No symbol) [0x003BE00B]\n\t(No symbol) [0x00445F4F]\n\t(No symbol) [0x00458E99]\n\t(No symbol) [0x0043FC26]\n\t(No symbol) [0x0041218C]\n\t(No symbol) [0x0041310D]\n\tGetHandleVerifier [0x00819683+2800659]\n\tGetHandleVerifier [0x0087423E+3172302]\n\tGetHandleVerifier [0x0086CE52+3142626]\n\tGetHandleVerifier [0x00616C00+692624]\n\t(No symbol) [0x00504BFD]\n\t(No symbol) [0x00501908]\n\t(No symbol) [0x00501AA0]\n\t(No symbol) [0x004F3F50]\n\tBaseThreadInitThunk [0x75997BA9+25]\n\tRtlInitializeExceptionChain [0x77A6C0CB+107]\n\tRtlClearBits [0x77A6C04F+191]\n"
     ]
    }
   ],
   "source": [
    "info_icon = wait.until(EC.element_to_be_clickable((By.XPATH, \"/html[@id='atomic']/body/div[@id='app']/div[@id='page']/div/div[@id='render-target-default']/div/div[@id='content']/div[@class='Mx(a) Pb(10px) Bbbw(1px) Bdbs(s) Bdbc($c-fuji-dirty-seagull) W(1080px) Thm-lite']/div[2]/div[@id='top-0-ContestDetailsHeaderWrapper-Proxy']/div[@class='P(10px) Pb(0)']/div/div[@class='Py(10px) Pb(0) Mb(10px) Cf Bb-accent']/div[@class='IbBox Pos(r)']/div[@class='D(ib) Va(m)']/div[@class='IbBox']/h4[@class='Fw(400) Fz(fz-xl) Mb(4px) Mt(0)']/span[@class='Fw(200)']/i[@class='ys-icon-info_outline C(button-primary-color) Cur(p) M(6px) Fz(15px)']\")))\n",
    "info_icon.click()"
   ]
  },
  {
   "cell_type": "code",
   "execution_count": 29,
   "id": "633198c2-2b9a-4da7-89ec-f71251c8c261",
   "metadata": {},
   "outputs": [
    {
     "ename": "NoSuchWindowException",
     "evalue": "Message: no such window: target window already closed\nfrom unknown error: web view not found\n  (Session info: chrome=130.0.6723.70)\nStacktrace:\n\tGetHandleVerifier [0x00573853+24035]\n\t(No symbol) [0x004FBBE4]\n\t(No symbol) [0x003DC2D3]\n\t(No symbol) [0x003BE00B]\n\t(No symbol) [0x00445F4F]\n\t(No symbol) [0x00458E99]\n\t(No symbol) [0x0043FC26]\n\t(No symbol) [0x0041218C]\n\t(No symbol) [0x0041310D]\n\tGetHandleVerifier [0x00819683+2800659]\n\tGetHandleVerifier [0x0087423E+3172302]\n\tGetHandleVerifier [0x0086CE52+3142626]\n\tGetHandleVerifier [0x00616C00+692624]\n\t(No symbol) [0x00504BFD]\n\t(No symbol) [0x00501908]\n\t(No symbol) [0x00501AA0]\n\t(No symbol) [0x004F3F50]\n\tBaseThreadInitThunk [0x75997BA9+25]\n\tRtlInitializeExceptionChain [0x77A6C0CB+107]\n\tRtlClearBits [0x77A6C04F+191]\n",
     "output_type": "error",
     "traceback": [
      "\u001b[1;31m---------------------------------------------------------------------------\u001b[0m",
      "\u001b[1;31mNoSuchWindowException\u001b[0m                     Traceback (most recent call last)",
      "Cell \u001b[1;32mIn[29], line 4\u001b[0m\n\u001b[0;32m      1\u001b[0m contest_id \u001b[38;5;241m=\u001b[39m \u001b[38;5;124m\"\u001b[39m\u001b[38;5;124m14255365\u001b[39m\u001b[38;5;124m\"\u001b[39m\n\u001b[0;32m      2\u001b[0m driver\u001b[38;5;241m.\u001b[39mget(\u001b[38;5;124mf\u001b[39m\u001b[38;5;124m\"\u001b[39m\u001b[38;5;124mhttps://sports.yahoo.com/dailyfantasy/contest/\u001b[39m\u001b[38;5;132;01m{\u001b[39;00mcontest_id\u001b[38;5;132;01m}\u001b[39;00m\u001b[38;5;124m/setlineup\u001b[39m\u001b[38;5;124m\"\u001b[39m)\n\u001b[1;32m----> 4\u001b[0m info_icon \u001b[38;5;241m=\u001b[39m \u001b[43mwait\u001b[49m\u001b[38;5;241;43m.\u001b[39;49m\u001b[43muntil\u001b[49m\u001b[43m(\u001b[49m\u001b[43mEC\u001b[49m\u001b[38;5;241;43m.\u001b[39;49m\u001b[43melement_to_be_clickable\u001b[49m\u001b[43m(\u001b[49m\u001b[43m(\u001b[49m\u001b[43mBy\u001b[49m\u001b[38;5;241;43m.\u001b[39;49m\u001b[43mXPATH\u001b[49m\u001b[43m,\u001b[49m\u001b[43m \u001b[49m\u001b[38;5;124;43m\"\u001b[39;49m\u001b[38;5;124;43m/html[@id=\u001b[39;49m\u001b[38;5;124;43m'\u001b[39;49m\u001b[38;5;124;43matomic\u001b[39;49m\u001b[38;5;124;43m'\u001b[39;49m\u001b[38;5;124;43m]/body/div[@id=\u001b[39;49m\u001b[38;5;124;43m'\u001b[39;49m\u001b[38;5;124;43mapp\u001b[39;49m\u001b[38;5;124;43m'\u001b[39;49m\u001b[38;5;124;43m]/div[@id=\u001b[39;49m\u001b[38;5;124;43m'\u001b[39;49m\u001b[38;5;124;43mpage\u001b[39;49m\u001b[38;5;124;43m'\u001b[39;49m\u001b[38;5;124;43m]/div/div[@id=\u001b[39;49m\u001b[38;5;124;43m'\u001b[39;49m\u001b[38;5;124;43mrender-target-default\u001b[39;49m\u001b[38;5;124;43m'\u001b[39;49m\u001b[38;5;124;43m]/div/div[@id=\u001b[39;49m\u001b[38;5;124;43m'\u001b[39;49m\u001b[38;5;124;43mcontent\u001b[39;49m\u001b[38;5;124;43m'\u001b[39;49m\u001b[38;5;124;43m]/div[@class=\u001b[39;49m\u001b[38;5;124;43m'\u001b[39;49m\u001b[38;5;124;43mMx(a) Pb(10px) Bbbw(1px) Bdbs(s) Bdbc($c-fuji-dirty-seagull) W(1080px) Thm-lite\u001b[39;49m\u001b[38;5;124;43m'\u001b[39;49m\u001b[38;5;124;43m]/div[2]/div[@id=\u001b[39;49m\u001b[38;5;124;43m'\u001b[39;49m\u001b[38;5;124;43mtop-0-ContestDetailsHeaderWrapper-Proxy\u001b[39;49m\u001b[38;5;124;43m'\u001b[39;49m\u001b[38;5;124;43m]/div[@class=\u001b[39;49m\u001b[38;5;124;43m'\u001b[39;49m\u001b[38;5;124;43mP(10px) Pb(0)\u001b[39;49m\u001b[38;5;124;43m'\u001b[39;49m\u001b[38;5;124;43m]/div/div[@class=\u001b[39;49m\u001b[38;5;124;43m'\u001b[39;49m\u001b[38;5;124;43mPy(10px) Pb(0) Mb(10px) Cf Bb-accent\u001b[39;49m\u001b[38;5;124;43m'\u001b[39;49m\u001b[38;5;124;43m]/div[@class=\u001b[39;49m\u001b[38;5;124;43m'\u001b[39;49m\u001b[38;5;124;43mIbBox Pos(r)\u001b[39;49m\u001b[38;5;124;43m'\u001b[39;49m\u001b[38;5;124;43m]/div[@class=\u001b[39;49m\u001b[38;5;124;43m'\u001b[39;49m\u001b[38;5;124;43mD(ib) Va(m)\u001b[39;49m\u001b[38;5;124;43m'\u001b[39;49m\u001b[38;5;124;43m]/div[@class=\u001b[39;49m\u001b[38;5;124;43m'\u001b[39;49m\u001b[38;5;124;43mIbBox\u001b[39;49m\u001b[38;5;124;43m'\u001b[39;49m\u001b[38;5;124;43m]/h4[@class=\u001b[39;49m\u001b[38;5;124;43m'\u001b[39;49m\u001b[38;5;124;43mFw(400) Fz(fz-xl) Mb(4px) Mt(0)\u001b[39;49m\u001b[38;5;124;43m'\u001b[39;49m\u001b[38;5;124;43m]/span[@class=\u001b[39;49m\u001b[38;5;124;43m'\u001b[39;49m\u001b[38;5;124;43mFw(200)\u001b[39;49m\u001b[38;5;124;43m'\u001b[39;49m\u001b[38;5;124;43m]/i[@class=\u001b[39;49m\u001b[38;5;124;43m'\u001b[39;49m\u001b[38;5;124;43mys-icon-info_outline C(button-primary-color) Cur(p) M(6px) Fz(15px)\u001b[39;49m\u001b[38;5;124;43m'\u001b[39;49m\u001b[38;5;124;43m]\u001b[39;49m\u001b[38;5;124;43m\"\u001b[39;49m\u001b[43m)\u001b[49m\u001b[43m)\u001b[49m\u001b[43m)\u001b[49m\n\u001b[0;32m      5\u001b[0m info_icon\u001b[38;5;241m.\u001b[39mclick()\n\u001b[0;32m      7\u001b[0m time\u001b[38;5;241m.\u001b[39msleep(\u001b[38;5;241m5\u001b[39m)\n",
      "File \u001b[1;32m~\\py_envs\\gen_env\\Lib\\site-packages\\selenium\\webdriver\\support\\wait.py:96\u001b[0m, in \u001b[0;36mWebDriverWait.until\u001b[1;34m(self, method, message)\u001b[0m\n\u001b[0;32m     94\u001b[0m \u001b[38;5;28;01mwhile\u001b[39;00m \u001b[38;5;28;01mTrue\u001b[39;00m:\n\u001b[0;32m     95\u001b[0m     \u001b[38;5;28;01mtry\u001b[39;00m:\n\u001b[1;32m---> 96\u001b[0m         value \u001b[38;5;241m=\u001b[39m \u001b[43mmethod\u001b[49m\u001b[43m(\u001b[49m\u001b[38;5;28;43mself\u001b[39;49m\u001b[38;5;241;43m.\u001b[39;49m\u001b[43m_driver\u001b[49m\u001b[43m)\u001b[49m\n\u001b[0;32m     97\u001b[0m         \u001b[38;5;28;01mif\u001b[39;00m value:\n\u001b[0;32m     98\u001b[0m             \u001b[38;5;28;01mreturn\u001b[39;00m value\n",
      "File \u001b[1;32m~\\py_envs\\gen_env\\Lib\\site-packages\\selenium\\webdriver\\support\\expected_conditions.py:363\u001b[0m, in \u001b[0;36melement_to_be_clickable.<locals>._predicate\u001b[1;34m(driver)\u001b[0m\n\u001b[0;32m    361\u001b[0m target \u001b[38;5;241m=\u001b[39m mark\n\u001b[0;32m    362\u001b[0m \u001b[38;5;28;01mif\u001b[39;00m \u001b[38;5;129;01mnot\u001b[39;00m \u001b[38;5;28misinstance\u001b[39m(target, WebElement):  \u001b[38;5;66;03m# if given locator instead of WebElement\u001b[39;00m\n\u001b[1;32m--> 363\u001b[0m     target \u001b[38;5;241m=\u001b[39m \u001b[43mdriver\u001b[49m\u001b[38;5;241;43m.\u001b[39;49m\u001b[43mfind_element\u001b[49m\u001b[43m(\u001b[49m\u001b[38;5;241;43m*\u001b[39;49m\u001b[43mtarget\u001b[49m\u001b[43m)\u001b[49m  \u001b[38;5;66;03m# grab element at locator\u001b[39;00m\n\u001b[0;32m    364\u001b[0m element \u001b[38;5;241m=\u001b[39m visibility_of(target)(driver)\n\u001b[0;32m    365\u001b[0m \u001b[38;5;28;01mif\u001b[39;00m element \u001b[38;5;129;01mand\u001b[39;00m element\u001b[38;5;241m.\u001b[39mis_enabled():\n",
      "File \u001b[1;32m~\\py_envs\\gen_env\\Lib\\site-packages\\selenium\\webdriver\\remote\\webdriver.py:748\u001b[0m, in \u001b[0;36mWebDriver.find_element\u001b[1;34m(self, by, value)\u001b[0m\n\u001b[0;32m    745\u001b[0m     by \u001b[38;5;241m=\u001b[39m By\u001b[38;5;241m.\u001b[39mCSS_SELECTOR\n\u001b[0;32m    746\u001b[0m     value \u001b[38;5;241m=\u001b[39m \u001b[38;5;124mf\u001b[39m\u001b[38;5;124m'\u001b[39m\u001b[38;5;124m[name=\u001b[39m\u001b[38;5;124m\"\u001b[39m\u001b[38;5;132;01m{\u001b[39;00mvalue\u001b[38;5;132;01m}\u001b[39;00m\u001b[38;5;124m\"\u001b[39m\u001b[38;5;124m]\u001b[39m\u001b[38;5;124m'\u001b[39m\n\u001b[1;32m--> 748\u001b[0m \u001b[38;5;28;01mreturn\u001b[39;00m \u001b[38;5;28;43mself\u001b[39;49m\u001b[38;5;241;43m.\u001b[39;49m\u001b[43mexecute\u001b[49m\u001b[43m(\u001b[49m\u001b[43mCommand\u001b[49m\u001b[38;5;241;43m.\u001b[39;49m\u001b[43mFIND_ELEMENT\u001b[49m\u001b[43m,\u001b[49m\u001b[43m \u001b[49m\u001b[43m{\u001b[49m\u001b[38;5;124;43m\"\u001b[39;49m\u001b[38;5;124;43musing\u001b[39;49m\u001b[38;5;124;43m\"\u001b[39;49m\u001b[43m:\u001b[49m\u001b[43m \u001b[49m\u001b[43mby\u001b[49m\u001b[43m,\u001b[49m\u001b[43m \u001b[49m\u001b[38;5;124;43m\"\u001b[39;49m\u001b[38;5;124;43mvalue\u001b[39;49m\u001b[38;5;124;43m\"\u001b[39;49m\u001b[43m:\u001b[49m\u001b[43m \u001b[49m\u001b[43mvalue\u001b[49m\u001b[43m}\u001b[49m\u001b[43m)\u001b[49m[\u001b[38;5;124m\"\u001b[39m\u001b[38;5;124mvalue\u001b[39m\u001b[38;5;124m\"\u001b[39m]\n",
      "File \u001b[1;32m~\\py_envs\\gen_env\\Lib\\site-packages\\selenium\\webdriver\\remote\\webdriver.py:354\u001b[0m, in \u001b[0;36mWebDriver.execute\u001b[1;34m(self, driver_command, params)\u001b[0m\n\u001b[0;32m    352\u001b[0m response \u001b[38;5;241m=\u001b[39m \u001b[38;5;28mself\u001b[39m\u001b[38;5;241m.\u001b[39mcommand_executor\u001b[38;5;241m.\u001b[39mexecute(driver_command, params)\n\u001b[0;32m    353\u001b[0m \u001b[38;5;28;01mif\u001b[39;00m response:\n\u001b[1;32m--> 354\u001b[0m     \u001b[38;5;28;43mself\u001b[39;49m\u001b[38;5;241;43m.\u001b[39;49m\u001b[43merror_handler\u001b[49m\u001b[38;5;241;43m.\u001b[39;49m\u001b[43mcheck_response\u001b[49m\u001b[43m(\u001b[49m\u001b[43mresponse\u001b[49m\u001b[43m)\u001b[49m\n\u001b[0;32m    355\u001b[0m     response[\u001b[38;5;124m\"\u001b[39m\u001b[38;5;124mvalue\u001b[39m\u001b[38;5;124m\"\u001b[39m] \u001b[38;5;241m=\u001b[39m \u001b[38;5;28mself\u001b[39m\u001b[38;5;241m.\u001b[39m_unwrap_value(response\u001b[38;5;241m.\u001b[39mget(\u001b[38;5;124m\"\u001b[39m\u001b[38;5;124mvalue\u001b[39m\u001b[38;5;124m\"\u001b[39m, \u001b[38;5;28;01mNone\u001b[39;00m))\n\u001b[0;32m    356\u001b[0m     \u001b[38;5;28;01mreturn\u001b[39;00m response\n",
      "File \u001b[1;32m~\\py_envs\\gen_env\\Lib\\site-packages\\selenium\\webdriver\\remote\\errorhandler.py:229\u001b[0m, in \u001b[0;36mErrorHandler.check_response\u001b[1;34m(self, response)\u001b[0m\n\u001b[0;32m    227\u001b[0m         alert_text \u001b[38;5;241m=\u001b[39m value[\u001b[38;5;124m\"\u001b[39m\u001b[38;5;124malert\u001b[39m\u001b[38;5;124m\"\u001b[39m]\u001b[38;5;241m.\u001b[39mget(\u001b[38;5;124m\"\u001b[39m\u001b[38;5;124mtext\u001b[39m\u001b[38;5;124m\"\u001b[39m)\n\u001b[0;32m    228\u001b[0m     \u001b[38;5;28;01mraise\u001b[39;00m exception_class(message, screen, stacktrace, alert_text)  \u001b[38;5;66;03m# type: ignore[call-arg]  # mypy is not smart enough here\u001b[39;00m\n\u001b[1;32m--> 229\u001b[0m \u001b[38;5;28;01mraise\u001b[39;00m exception_class(message, screen, stacktrace)\n",
      "\u001b[1;31mNoSuchWindowException\u001b[0m: Message: no such window: target window already closed\nfrom unknown error: web view not found\n  (Session info: chrome=130.0.6723.70)\nStacktrace:\n\tGetHandleVerifier [0x00573853+24035]\n\t(No symbol) [0x004FBBE4]\n\t(No symbol) [0x003DC2D3]\n\t(No symbol) [0x003BE00B]\n\t(No symbol) [0x00445F4F]\n\t(No symbol) [0x00458E99]\n\t(No symbol) [0x0043FC26]\n\t(No symbol) [0x0041218C]\n\t(No symbol) [0x0041310D]\n\tGetHandleVerifier [0x00819683+2800659]\n\tGetHandleVerifier [0x0087423E+3172302]\n\tGetHandleVerifier [0x0086CE52+3142626]\n\tGetHandleVerifier [0x00616C00+692624]\n\t(No symbol) [0x00504BFD]\n\t(No symbol) [0x00501908]\n\t(No symbol) [0x00501AA0]\n\t(No symbol) [0x004F3F50]\n\tBaseThreadInitThunk [0x75997BA9+25]\n\tRtlInitializeExceptionChain [0x77A6C0CB+107]\n\tRtlClearBits [0x77A6C04F+191]\n"
     ]
    }
   ],
   "source": [
    "contest_id = \"14255365\"\n",
    "driver.get(f\"https://sports.yahoo.com/dailyfantasy/contest/{contest_id}/setlineup\")\n",
    "\n",
    "info_icon = wait.until(EC.element_to_be_clickable((By.XPATH, \"/html[@id='atomic']/body/div[@id='app']/div[@id='page']/div/div[@id='render-target-default']/div/div[@id='content']/div[@class='Mx(a) Pb(10px) Bbbw(1px) Bdbs(s) Bdbc($c-fuji-dirty-seagull) W(1080px) Thm-lite']/div[2]/div[@id='top-0-ContestDetailsHeaderWrapper-Proxy']/div[@class='P(10px) Pb(0)']/div/div[@class='Py(10px) Pb(0) Mb(10px) Cf Bb-accent']/div[@class='IbBox Pos(r)']/div[@class='D(ib) Va(m)']/div[@class='IbBox']/h4[@class='Fw(400) Fz(fz-xl) Mb(4px) Mt(0)']/span[@class='Fw(200)']/i[@class='ys-icon-info_outline C(button-primary-color) Cur(p) M(6px) Fz(15px)']\")))\n",
    "info_icon.click()\n",
    "\n",
    "time.sleep(5)\n",
    "\n",
    "# downloads the lineup for the contest\n",
    "\n",
    "export_player_list = wait.until(EC.element_to_be_clickable((By.XPATH, \"/html[@id='atomic']/body/div[@id='app']/div[@id='page']/div/div[@id='render-target-default']/div/div[@class='Z(11) End(0) Pos(f) Start(0) T(0)']/div/div[@id='overlay-1-Lightbox-Proxy']/div[@id='overlay-1-Lightbox']/div[@class='lightbox-wrapper Ta(c) Pos(f) T(0) Start(0) H(100%) W(100%) PageOverlay Z(50) Op(1)']/div[@id='myLightboxContainer']/div[@class='Pos(r)']/div[@class='ys-contestModal ys-modalContent Px(20px) Thm-lite']/div[@class='Mih(400px)']/div[@class='Fxg(1)']/div[2]/div[@class='Bt-lite bd Ov(a) Pt(10px) Mih(400px) Pos(r)']/div[@class='bd']/div[@class='Thm-lite Fz(fz-sm)']/div[@class='IbBox W(1/1)']/div[@class='Py(10px)']/p[@class='IbBox M(0) Fz(fz-xsm) Fl(end)']/a\")))\n",
    "export_player_list.click()\n"
   ]
  },
  {
   "cell_type": "markdown",
   "id": "503314f5-aeae-45f9-a7f9-b818e623b117",
   "metadata": {},
   "source": [
    "## Download Contest History\n",
    "\n",
    "Note: yahoo only does last 6 months from date"
   ]
  },
  {
   "cell_type": "code",
   "execution_count": 24,
   "id": "9920f948-8959-44fe-a05c-c292ccab6bbe",
   "metadata": {},
   "outputs": [],
   "source": [
    "\n"
   ]
  },
  {
   "cell_type": "code",
   "execution_count": null,
   "id": "6c9f2d39-d909-4e69-95ea-4a485abd8eec",
   "metadata": {},
   "outputs": [],
   "source": [
    "## download contests\n",
    "\n",
    "# Open the website\n",
    "driver.get(f\"https://sports.yahoo.com/dailyfantasy/contests/history\")\n",
    "\n",
    "# Wait for the element to be clickable and click it\n",
    "wait = WebDriverWait(driver, 20)\n",
    "download_context_history_button = wait.until(EC.element_to_be_clickable((By.XPATH, \"/html[@id='atomic']/body/div[@id='app']/div[@id='page']/div/div[@id='render-target-default']/div/div[@id='content']/div[@class='Mx(a) Pb(10px) Bdbw(1px) Bdbs(s) Bdbc($c-fuji-dirty-seagull) W(1080px) Thm-lite']/div[@id='jumptocontent']/div[@id='main-0-DesktopContestsHistory-Proxy']/div[@class='Thm-lite P(10px)']/div[@class='Pt(10px)']/div[@class='D(f) Jc(sb) Bb-accent Mb(20px)']/div[@class='IbBox']/button[@class='D(if) Jc(c) Ai(c) Bdrs(9999px) Cur(p) O(button-focus-visible):fv Cur(d):di Op(1):di C(#b0b9c1)!:di Pe(n):di Mb(6px) Bgc(t) C($c-scooter)! Bd(light-grey-border) Bgc(bgc-trans-light-grey):h Bdc(#b0b9c1):di Px(16px) Py(4px) Fw(500) Fz(16px) Lh(1.5)']\")))\n",
    "download_context_history_button.click()\n",
    "\n",
    "# Wait for the download to complete if needed (use your logic)\n",
    "time.sleep(5)\n",
    "\n",
    "download_button = wait.until(EC.element_to_be_clickable((By.XPATH, \"/html[@id='atomic']/body/div[@id='app']/div[@id='page']/div/div[@id='render-target-default']/div/div[@class='Z(11) End(0) Pos(f) Start(0) T(0)']/div/div[@id='overlay-1-Lightbox-Proxy']/div[@id='overlay-1-Lightbox']/div[@class='lightbox-wrapper Ta(c) Pos(f) T(0) Start(0) H(100%) W(100%) PageOverlay Z(50) Op(1)']/div[@id='myLightboxContainer']/div[@class='ys-download-contest-history-modal P(16px) Bgc(white) Pos(r) Bdrs(8px) Miw(392px) Maw(392px) smartphone_W(100%) smartphone_Bxz(bb) smartphone_Bdrststart(8px) smartphone_Bdrsbend(0) smartphone_Bdrsbstart(0) smartphone_Bdrstend(8px) smartphone_Miw(ini) smartphone_Maw(ini)']/a[@class='YahooSans-Medium D(f) Mb(10px) Fz(16px) W(100%) H(52px) Bdrs(26px) Bgc($c-fuji-blue-1-a) C(white) Mt(16px) Ai(c) Jc(c) Td(n):h Bxz(bb)']\")))\n",
    "download_button.click()\n",
    "time.sleep(10)\n",
    "\n"
   ]
  },
  {
   "cell_type": "markdown",
   "id": "a1d93b8f-3ca0-43ed-9132-1cd5b170a5c0",
   "metadata": {},
   "source": [
    "## Gather Entries Data from Contests"
   ]
  },
  {
   "cell_type": "code",
   "execution_count": 12,
   "id": "a23f6f58-029a-4048-bc74-089480c1c29d",
   "metadata": {},
   "outputs": [],
   "source": [
    "conn = sqlite3.connect('../data/fantasy.db')\n",
    "cursor = conn.cursor()\n"
   ]
  },
  {
   "cell_type": "code",
   "execution_count": 15,
   "id": "de929cd1-9727-4642-a18f-f43f2fb8de59",
   "metadata": {},
   "outputs": [],
   "source": [
    "# Gather contests (could filter more by start_date)\n",
    "cursor.execute(\"Select id, entry_id from contests;\")\n",
    "\n",
    "contests_ls = cursor.fetchall()"
   ]
  },
  {
   "cell_type": "code",
   "execution_count": 19,
   "id": "5656945e-1c29-421c-866e-56be2af2a25f",
   "metadata": {},
   "outputs": [],
   "source": [
    "\n",
    "base_contest_url = \"/html[@id='atomic']/body/div[@id='app']/div[@id='page']/div/div[@id='render-target-default']/div/div[@id='content']/div[@class='Mx(a) Pb(10px) Bdbw(1px) Bdbs(s) Bdbc($c-fuji-dirty-seagull) W(1080px) Thm-lite']/div[@id='jumptocontent']/div[@id='main-0-ContestDetails-Proxy']/div[@class='Pos(r) P(10px)']/div[@class='D(f)']/div[@class='IbBox W(45%) Bxz(bb) D(b)']/div/table[@class='W(100%) TableVa(m) M(0) Bd(0) LinkColorOnHover']/tbody/tr[@class='Bb-lite Bxz(bb) H(61px) Cur(p)']\"\n",
    "for contest_id, entry_id in contests_ls:\n",
    "\n",
    "    # open contest\n",
    "    driver.get(f\"https://sports.yahoo.com/dailyfantasy/contest/{contest_id}/{entry_id}\")\n",
    "    time.sleep(5)\n",
    "\n",
    "    # 8 players in a roster\n",
    "    for i in range(1,9):\n",
    "        player_name_xpath = f\"{base_contest_url}[{i}]/td[@class='Py(0) Pos(r) Ta(end)']/div[@class='Va(m) IbBox Maw(69%)']/div/div[1]/a[@class='C(font-color-default)!']\"\n",
    "        FPPG_xpath = f\"{base_contest_url}[{i}]/td[@class='Ta(c)'][1]\"\n",
    "        points_xpath = f\"{base_contest_url}[{i}]/td[@class='Ta(c) Fw(b)']/div[@class='D(ib) Mb(2px)']/span[@class='ydfs-scoring-points']\"\n",
    "        \n",
    "\n",
    "        try: \n",
    "            player_name = driver.find_element(By.XPATH, player_name_xpath).text\n",
    "            FPPG_name = driver.find_element(By.XPATH, player_name_xpath).text\n",
    "            \n",
    "\n",
    "\n"
   ]
  },
  {
   "cell_type": "code",
   "execution_count": null,
   "id": "5d2df80b-35cd-4574-ba01-3a1fcfa51920",
   "metadata": {},
   "outputs": [],
   "source": [
    "cursor.execute(\"Select id, entry_id from contests;\")\n",
    "cursor.fetchall()"
   ]
  },
  {
   "cell_type": "code",
   "execution_count": null,
   "id": "2f2c55be-8486-44a6-a620-0d01ea7f4c6a",
   "metadata": {},
   "outputs": [],
   "source": [
    "# Quit the driver\n",
    "driver.quit()\n"
   ]
  }
 ],
 "metadata": {
  "kernelspec": {
   "display_name": "Python 3 (ipykernel)",
   "language": "python",
   "name": "python3"
  },
  "language_info": {
   "codemirror_mode": {
    "name": "ipython",
    "version": 3
   },
   "file_extension": ".py",
   "mimetype": "text/x-python",
   "name": "python",
   "nbconvert_exporter": "python",
   "pygments_lexer": "ipython3",
   "version": "3.12.6"
  }
 },
 "nbformat": 4,
 "nbformat_minor": 5
}
