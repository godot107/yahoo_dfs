{
 "cells": [
  {
   "cell_type": "code",
   "execution_count": 128,
   "id": "13fe877a-0db0-4e5a-aed9-d2db8bbf1303",
   "metadata": {},
   "outputs": [],
   "source": [
    "import sys\n",
    "import os\n",
    "\n",
    "from yahoo_oauth import OAuth2\n",
    "import yahoo_fantasy_api as yfa \n",
    "\n",
    "# Get the absolute path to the 'src' directory\n",
    "src_path = os.path.abspath(os.path.join(os.getcwd(), '..', 'src'))\n",
    "\n",
    "# Add the 'src' directory to sys.path\n",
    "sys.path.append(src_path)\n",
    "\n",
    "from db_utils import fantasy_db"
   ]
  },
  {
   "cell_type": "code",
   "execution_count": 129,
   "id": "29f45d44-e555-4123-b608-d0d1ec946dab",
   "metadata": {},
   "outputs": [
    {
     "name": "stderr",
     "output_type": "stream",
     "text": [
      "[2024-10-25 11:55:59,263 DEBUG] [yahoo_oauth.oauth.__init__] Checking \n",
      "[2024-10-25 11:55:59,267 DEBUG] [yahoo_oauth.oauth.token_is_valid] ELAPSED TIME : 22.437687397003174\n",
      "[2024-10-25 11:55:59,268 DEBUG] [yahoo_oauth.oauth.token_is_valid] TOKEN IS STILL VALID\n"
     ]
    }
   ],
   "source": [
    "oauth = OAuth2(None, None, from_file='../src/oauth2.json')"
   ]
  },
  {
   "cell_type": "code",
   "execution_count": 130,
   "id": "c499ee83-0455-45a0-bfcd-3c5bde76cef5",
   "metadata": {},
   "outputs": [],
   "source": [
    "gm = yfa.Game(oauth, 'nba')"
   ]
  },
  {
   "cell_type": "code",
   "execution_count": 131,
   "id": "3c77369a-8ea0-4e66-b93f-de3913e2112f",
   "metadata": {},
   "outputs": [],
   "source": [
    "# https://yahoo-fantasy-api.readthedocs.io/en/latest/yahoo_fantasy_api.html#the-league-class\n",
    "\n",
    "lg = yfa.League(oauth, '454.l.222542')"
   ]
  },
  {
   "cell_type": "code",
   "execution_count": 5,
   "id": "d72e4ae4-10fc-4095-b88e-e0d77fea58c3",
   "metadata": {},
   "outputs": [],
   "source": [
    "## Get Entries\n",
    "db_conn = fantasy_db()"
   ]
  },
  {
   "cell_type": "code",
   "execution_count": 21,
   "id": "39e99626-5f10-408f-9cc0-41436f9c5809",
   "metadata": {},
   "outputs": [],
   "source": [
    "db_conn.cursor.execute(\"SELECT selected_player_id, salary FROM entries;\")\n",
    "\n",
    "selected_players =db_conn.cursor.fetchall()"
   ]
  },
  {
   "cell_type": "code",
   "execution_count": 22,
   "id": "ffcfcf05-d73d-426e-81cc-e18857dff137",
   "metadata": {},
   "outputs": [
    {
     "data": {
      "text/plain": [
       "[(6044, 45),\n",
       " (6569, 27),\n",
       " (5357, 25),\n",
       " (6698, 11),\n",
       " (6171, 20),\n",
       " (5693, 15),\n",
       " (6558, 42),\n",
       " (5643, 13)]"
      ]
     },
     "execution_count": 22,
     "metadata": {},
     "output_type": "execute_result"
    }
   ],
   "source": [
    "# from DFS entry\n",
    "selected_players"
   ]
  },
  {
   "cell_type": "code",
   "execution_count": 23,
   "id": "180f2dc1-ce41-4709-a10f-b631f1210fd9",
   "metadata": {},
   "outputs": [
    {
     "data": {
      "text/plain": [
       "[{'player_id': 6044,\n",
       "  'name': 'Jalen Brunson',\n",
       "  'position_type': 'P',\n",
       "  'PTS': 28.7,\n",
       "  'REB': 3.6,\n",
       "  'AST': 6.7,\n",
       "  'ST': 0.9,\n",
       "  'BLK': 0.2,\n",
       "  'TO': 2.4,\n",
       "  'total_points': 43.97}]"
      ]
     },
     "execution_count": 23,
     "metadata": {},
     "output_type": "execute_result"
    }
   ],
   "source": [
    "lg.player_stats(6044, req_type = 'average_season', season = 2023)"
   ]
  },
  {
   "cell_type": "code",
   "execution_count": 135,
   "id": "a7866d60-672a-4152-a0e5-b1be90337cf3",
   "metadata": {},
   "outputs": [],
   "source": [
    "# Evaluate \n",
    "\n",
    "class evaluate_entries:\n",
    "    def __init__(self, players:list):\n",
    "        \"\"\"\n",
    "        Args:\n",
    "            players (list): A list of tuples where (player_id, salary)\n",
    "\n",
    "        \"\"\"\n",
    "        self.selected_players = [i[0] for i in players]\n",
    "\n",
    "        # Build a profile\n",
    "        self.players_profile = {}\n",
    "        \n",
    "        for i in players:\n",
    "            self.players_profile[i[0]] = {'salary':i[1], 'projected_fps':0, 'value_score': 0}\n",
    "\n",
    "\n",
    "        # Scoring        \n",
    "        self.scoring_criteria = { 'PTS':1, 'REB': 1.2, 'AST':1.5, 'ST':3, 'BLK':3, 'TO':-1}\n",
    "        self.projected_score = 0\n",
    "        self.average_player_value = 0\n",
    "        \n",
    "        #self.df_temp = pd.DataFrame(columns = [])\n",
    "        \n",
    "\n",
    "    def calculate_FP(self, player_stats:dict):\n",
    "        \"\"\"\n",
    "        Calculate the fantasy points (FP) for a player based on their statistics and the scoring criteria.\n",
    "\n",
    "        Args:\n",
    "            player_stats (dict): A dictionary containing the player's statistics, where keys are the stat names\n",
    "                                and values are the stat values.\n",
    "\n",
    "        Returns:\n",
    "            float: The calculated fantasy points score for the player.\n",
    "        \"\"\"\n",
    "        fps_score = 0\n",
    "        \n",
    "        for criteria in self.scoring_criteria.keys():\n",
    "            fps_score += player_stats[criteria] * self.scoring_criteria[criteria]\n",
    "\n",
    "        return fps_score\n",
    "\n",
    "    def value_score(self, player_id, method = 'simple'):\n",
    "        \"\"\"\n",
    "        Assign a 'value score' against statistics and salary. In general, the higher the value, the more stats per salary\n",
    "\n",
    "        Args:\n",
    "            method: an approach\n",
    "                simple = projected_fps/salary\n",
    "\n",
    "        Returns:\n",
    "            float: a ratio\n",
    "\n",
    "        \"\"\"\n",
    "\n",
    "        if method == 'simple':\n",
    "            return self.players_profile[player_id]['projected_fps'] / self.players_profile[player_id]['salary'] \n",
    "        \n",
    "\n",
    "        \n",
    "\n",
    "    def evaluate_roster(self, **kwargs):\n",
    "\n",
    "        average_player_value = 0\n",
    "\n",
    "        for player_id in self.selected_players:\n",
    "\n",
    "            #fetch stats from API\n",
    "            player_stats = lg.player_stats(player_id, req_type = 'average_season', season = 2023)[0]  # trying to see if i can parameterize this line.\n",
    "            fps_score = self.calculate_FP(player_stats)\n",
    "            self.projected_score += fps_score\n",
    "\n",
    "\n",
    "            self.players_profile[player_id]['projected_fps'] = fps_score\n",
    "            self.players_profile[player_id]['value_score'] =   self.value_score(player_id)    \n",
    "            \n",
    "            average_player_value += self.players_profile[player_id]['value_score'] \n",
    "\n",
    "         \n",
    "        self.average_player_value = average_player_value / len(self.selected_players)       \n",
    "\n",
    "        \n",
    "        "
   ]
  },
  {
   "cell_type": "code",
   "execution_count": 136,
   "id": "951d9169-6e06-4993-9c87-ff8fb89c700b",
   "metadata": {},
   "outputs": [],
   "source": [
    "oddone = evaluate_entries(selected_players)"
   ]
  },
  {
   "cell_type": "code",
   "execution_count": 137,
   "id": "7db01724-9af8-4783-8568-15622d4eee63",
   "metadata": {},
   "outputs": [],
   "source": [
    "oddone.evaluate_roster()"
   ]
  },
  {
   "cell_type": "code",
   "execution_count": 139,
   "id": "07887669-e334-4273-bc86-dc6c7a1cf763",
   "metadata": {},
   "outputs": [
    {
     "data": {
      "text/plain": [
       "1.2229574194324193"
      ]
     },
     "execution_count": 139,
     "metadata": {},
     "output_type": "execute_result"
    }
   ],
   "source": [
    "oddone.average_player_value"
   ]
  }
 ],
 "metadata": {
  "kernelspec": {
   "display_name": "Python 3 (ipykernel)",
   "language": "python",
   "name": "python3"
  },
  "language_info": {
   "codemirror_mode": {
    "name": "ipython",
    "version": 3
   },
   "file_extension": ".py",
   "mimetype": "text/x-python",
   "name": "python",
   "nbconvert_exporter": "python",
   "pygments_lexer": "ipython3",
   "version": "3.12.6"
  }
 },
 "nbformat": 4,
 "nbformat_minor": 5
}
